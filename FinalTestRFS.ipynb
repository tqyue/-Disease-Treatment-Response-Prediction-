{
  "cells": [
    {
      "cell_type": "markdown",
      "metadata": {
        "id": "08_Quish__mM"
      },
      "source": [
        "DataPreprocessing"
      ]
    },
    {
      "cell_type": "code",
      "execution_count": 1,
      "metadata": {
        "colab": {
          "base_uri": "https://localhost:8080/"
        },
        "id": "pcVza9I0F2XE",
        "outputId": "0efd934a-18f2-4840-ddc8-714489fe1a1a"
      },
      "outputs": [
        {
          "name": "stdout",
          "output_type": "stream",
          "text": [
            "Requirement already satisfied: joblib in c:\\users\\dell\\appdata\\local\\programs\\python\\python38\\lib\\site-packages (1.3.2)\n"
          ]
        }
      ],
      "source": [
        "!pip install joblib"
      ]
    },
    {
      "cell_type": "code",
      "execution_count": 2,
      "metadata": {
        "id": "5w6at7Ms__mO"
      },
      "outputs": [],
      "source": [
        "import pandas as pd\n",
        "import numpy as np\n",
        "import matplotlib.pyplot as plt\n",
        "from sklearn.impute import KNNImputer\n",
        "from sklearn.preprocessing import MinMaxScaler\n",
        "from imblearn.over_sampling import SMOTE\n",
        "from sklearn.model_selection import train_test_split\n",
        "from sklearn.model_selection import KFold\n",
        "from sklearn.model_selection import cross_val_score\n",
        "from sklearn.ensemble import RandomForestClassifier\n",
        "from sklearn.decomposition import PCA\n",
        "from sklearn.linear_model import LogisticRegression,LinearRegression\n",
        "from sklearn.svm import SVC,SVR\n",
        "from sklearn.neural_network import MLPClassifier,MLPRegressor\n",
        "from sklearn.tree import DecisionTreeClassifier,DecisionTreeRegressor\n",
        "from sklearn.model_selection import GridSearchCV\n",
        "from sklearn.metrics import balanced_accuracy_score\n",
        "from sklearn.ensemble import RandomForestRegressor\n",
        "import joblib"
      ]
    },
    {
      "cell_type": "markdown",
      "metadata": {
        "id": "tWzNag2j__mQ"
      },
      "source": [
        "Read DataSet"
      ]
    },
    {
      "cell_type": "code",
      "execution_count": 3,
      "metadata": {
        "id": "coFQ2mSm__mQ"
      },
      "outputs": [],
      "source": [
        "# Read dataset from a excel file\n",
        "def readFromExcel(file_path):\n",
        "    df = pd.read_excel(file_path)\n",
        "    return df"
      ]
    },
    {
      "cell_type": "code",
      "execution_count": 4,
      "metadata": {
        "id": "o79LHaQ-F0fj"
      },
      "outputs": [],
      "source": [
        "test_data=readFromExcel(\"TestDatasetExample.xls\")"
      ]
    },
    {
      "cell_type": "markdown",
      "metadata": {
        "id": "eRlq8W0D__mS"
      },
      "source": [
        "Deal Nan value"
      ]
    },
    {
      "cell_type": "code",
      "execution_count": 5,
      "metadata": {
        "id": "gpjGy_bA__mS"
      },
      "outputs": [],
      "source": [
        "# Replace 999 with NaN\n",
        "# Save this processing dataset to a excel file as FilledEmptyDataset.xlsx\n",
        "def handleNaN(df):\n",
        "\n",
        "    df_changed = df.replace(999, np.nan, inplace=False)\n",
        "\n",
        "    # If NaN shows in pCR and RFS, drop this row\n",
        "    df_handle = df_changed.dropna(subset=['pCR (outcome)', 'RelapseFreeSurvival (outcome)'])\n",
        "\n",
        "    # Use median value to replace NaN\n",
        "    df_filled = df_handle.fillna(df_handle.median(), inplace=False)\n",
        "\n",
        "    # Reset the index for next step\n",
        "    df_filled = df_filled.reset_index(drop=True)\n",
        "\n",
        "    return df_filled"
      ]
    },
    {
      "cell_type": "code",
      "execution_count": 6,
      "metadata": {
        "colab": {
          "base_uri": "https://localhost:8080/"
        },
        "id": "vLRopCtbF0fn",
        "outputId": "5afd6931-4c0a-4f2a-d3de-b59da9cbe0dc"
      },
      "outputs": [],
      "source": [
        "test_data.replace(999,np.nan,inplace=True)\n",
        "test_data.fillna(test_data.median(), inplace=True)"
      ]
    },
    {
      "cell_type": "markdown",
      "metadata": {
        "id": "6Vh0o3JB__mT"
      },
      "source": [
        "CheckOutliers"
      ]
    },
    {
      "cell_type": "code",
      "execution_count": 7,
      "metadata": {
        "id": "iYTvxCnk__mU"
      },
      "outputs": [],
      "source": [
        "# Find outliers and assign values for them\n",
        "# Save this processing dataset to a excel file as HandleOutliersDataset.xlsx\n",
        "def checkOutliers(dataFrame):\n",
        "\n",
        "    # Extract data after 13th cols\n",
        "    df = dataFrame.iloc[:, 13:]\n",
        "    imputer = KNNImputer(n_neighbors=3)\n",
        "    for column in df.columns:\n",
        "\n",
        "        # Use boxplots theory to find the outliers and replace them with nan\n",
        "        q1 = df[column].quantile(0.25)\n",
        "        q3 = df[column].quantile(0.75)\n",
        "        iqr = q3-q1\n",
        "        lower_bound = q1 - 1.5 * iqr\n",
        "        upper_bound = q3 + 1.5 * iqr\n",
        "        df.loc[(df[column] > upper_bound) | (df[column] < lower_bound), column] = np.nan\n",
        "\n",
        "    # Use KNNImputer give value to outliers\n",
        "    df = pd.DataFrame(imputer.fit_transform(df), columns=df.columns)\n",
        "\n",
        "    # Concatenate all columns\n",
        "    result_df = pd.concat([dataFrame.iloc[:, :13], df], axis=1)\n",
        "\n",
        "    return result_df"
      ]
    },
    {
      "cell_type": "markdown",
      "metadata": {
        "id": "MFavywfaD_VJ"
      },
      "source": [
        "Normilization"
      ]
    },
    {
      "cell_type": "code",
      "execution_count": 8,
      "metadata": {
        "id": "042OOnYdEBC5"
      },
      "outputs": [],
      "source": [
        "# Normalize the dataset\n",
        "# Save this processing dataset to a excel file as ProcessedDataset.xlsx\n",
        "# This is the final step for preprocessing\n",
        "def normData(dataFrame,star):\n",
        "\n",
        "    # Extract specific columns\n",
        "    df = pd.concat([dataFrame['Age'], dataFrame.iloc[:, star:]], axis=1)\n",
        "    result_df=dataFrame.copy()\n",
        "    for column in df.columns:\n",
        "\n",
        "        # Make a rule to determine if there is a value out of the range [0, 1] in every column\n",
        "        is_between_0_and_1 = (df[column] >= 0) & (df[column] <= 1)\n",
        "\n",
        "        # Use all() to check whether all data in this column follow the rule, if not then normalize this column\n",
        "        if is_between_0_and_1.all() == False:\n",
        "\n",
        "            # Use MinMaxScaler to normalize selected column\n",
        "            scaler = MinMaxScaler()\n",
        "            df[[column]] = scaler.fit_transform(df[[column]])\n",
        "            result_df[column]=df[column]\n",
        "    return result_df"
      ]
    },
    {
      "cell_type": "code",
      "execution_count": 9,
      "metadata": {
        "colab": {
          "base_uri": "https://localhost:8080/"
        },
        "id": "tKbxJYpwF0fq",
        "outputId": "4db46c25-b10c-4de7-928f-683e49ae995c"
      },
      "outputs": [
        {
          "name": "stdout",
          "output_type": "stream",
          "text": [
            "Index of column of train: 11\n"
          ]
        }
      ],
      "source": [
        "index_of_start = test_data.columns.get_loc('original_shape_Elongation')\n",
        "print(\"Index of column of train:\", index_of_start)"
      ]
    },
    {
      "cell_type": "code",
      "execution_count": 10,
      "metadata": {
        "id": "u5uoTyTSF0fq"
      },
      "outputs": [],
      "source": [
        "test_data=normData(test_data,index_of_start)"
      ]
    },
    {
      "cell_type": "code",
      "execution_count": 11,
      "metadata": {
        "colab": {
          "base_uri": "https://localhost:8080/",
          "height": 193
        },
        "id": "au2YgUwNF0fq",
        "outputId": "d5aa4d15-eaf8-4a97-8bfe-7e2fc80e4151"
      },
      "outputs": [
        {
          "data": {
            "text/html": [
              "<div>\n",
              "<style scoped>\n",
              "    .dataframe tbody tr th:only-of-type {\n",
              "        vertical-align: middle;\n",
              "    }\n",
              "\n",
              "    .dataframe tbody tr th {\n",
              "        vertical-align: top;\n",
              "    }\n",
              "\n",
              "    .dataframe thead th {\n",
              "        text-align: right;\n",
              "    }\n",
              "</style>\n",
              "<table border=\"1\" class=\"dataframe\">\n",
              "  <thead>\n",
              "    <tr style=\"text-align: right;\">\n",
              "      <th></th>\n",
              "      <th>ID</th>\n",
              "      <th>Age</th>\n",
              "      <th>ER</th>\n",
              "      <th>PgR</th>\n",
              "      <th>HER2</th>\n",
              "      <th>TrippleNegative</th>\n",
              "      <th>ChemoGrade</th>\n",
              "      <th>Proliferation</th>\n",
              "      <th>HistologyType</th>\n",
              "      <th>LNStatus</th>\n",
              "      <th>...</th>\n",
              "      <th>original_glszm_SmallAreaHighGrayLevelEmphasis</th>\n",
              "      <th>original_glszm_SmallAreaLowGrayLevelEmphasis</th>\n",
              "      <th>original_glszm_ZoneEntropy</th>\n",
              "      <th>original_glszm_ZonePercentage</th>\n",
              "      <th>original_glszm_ZoneVariance</th>\n",
              "      <th>original_ngtdm_Busyness</th>\n",
              "      <th>original_ngtdm_Coarseness</th>\n",
              "      <th>original_ngtdm_Complexity</th>\n",
              "      <th>original_ngtdm_Contrast</th>\n",
              "      <th>original_ngtdm_Strength</th>\n",
              "    </tr>\n",
              "  </thead>\n",
              "  <tbody>\n",
              "    <tr>\n",
              "      <th>0</th>\n",
              "      <td>TRG002728</td>\n",
              "      <td>0.000000</td>\n",
              "      <td>0</td>\n",
              "      <td>0</td>\n",
              "      <td>0</td>\n",
              "      <td>1</td>\n",
              "      <td>3</td>\n",
              "      <td>3</td>\n",
              "      <td>1.0</td>\n",
              "      <td>0</td>\n",
              "      <td>...</td>\n",
              "      <td>0.194591</td>\n",
              "      <td>0.194591</td>\n",
              "      <td>0.000000</td>\n",
              "      <td>0.001281</td>\n",
              "      <td>1.000000</td>\n",
              "      <td>0.537233</td>\n",
              "      <td>0.002335</td>\n",
              "      <td>0.109755</td>\n",
              "      <td>0.013383</td>\n",
              "      <td>0.002051</td>\n",
              "    </tr>\n",
              "    <tr>\n",
              "      <th>1</th>\n",
              "      <td>TRG002649</td>\n",
              "      <td>1.000000</td>\n",
              "      <td>0</td>\n",
              "      <td>0</td>\n",
              "      <td>1</td>\n",
              "      <td>0</td>\n",
              "      <td>2</td>\n",
              "      <td>1</td>\n",
              "      <td>1.0</td>\n",
              "      <td>0</td>\n",
              "      <td>...</td>\n",
              "      <td>0.309999</td>\n",
              "      <td>0.309996</td>\n",
              "      <td>0.137173</td>\n",
              "      <td>0.007253</td>\n",
              "      <td>0.000000</td>\n",
              "      <td>0.000000</td>\n",
              "      <td>0.011285</td>\n",
              "      <td>0.055890</td>\n",
              "      <td>0.003163</td>\n",
              "      <td>0.009553</td>\n",
              "    </tr>\n",
              "    <tr>\n",
              "      <th>2</th>\n",
              "      <td>TRG002628</td>\n",
              "      <td>0.433714</td>\n",
              "      <td>0</td>\n",
              "      <td>0</td>\n",
              "      <td>0</td>\n",
              "      <td>1</td>\n",
              "      <td>3</td>\n",
              "      <td>3</td>\n",
              "      <td>1.0</td>\n",
              "      <td>1</td>\n",
              "      <td>...</td>\n",
              "      <td>0.328377</td>\n",
              "      <td>0.328377</td>\n",
              "      <td>1.000000</td>\n",
              "      <td>0.003185</td>\n",
              "      <td>0.859655</td>\n",
              "      <td>1.000000</td>\n",
              "      <td>0.001334</td>\n",
              "      <td>0.101628</td>\n",
              "      <td>0.010844</td>\n",
              "      <td>0.001194</td>\n",
              "    </tr>\n",
              "  </tbody>\n",
              "</table>\n",
              "<p>3 rows × 118 columns</p>\n",
              "</div>"
            ],
            "text/plain": [
              "          ID       Age  ER  PgR  HER2  TrippleNegative  ChemoGrade  \\\n",
              "0  TRG002728  0.000000   0    0     0                1           3   \n",
              "1  TRG002649  1.000000   0    0     1                0           2   \n",
              "2  TRG002628  0.433714   0    0     0                1           3   \n",
              "\n",
              "   Proliferation  HistologyType  LNStatus  ...  \\\n",
              "0              3            1.0         0  ...   \n",
              "1              1            1.0         0  ...   \n",
              "2              3            1.0         1  ...   \n",
              "\n",
              "   original_glszm_SmallAreaHighGrayLevelEmphasis  \\\n",
              "0                                       0.194591   \n",
              "1                                       0.309999   \n",
              "2                                       0.328377   \n",
              "\n",
              "   original_glszm_SmallAreaLowGrayLevelEmphasis  original_glszm_ZoneEntropy  \\\n",
              "0                                      0.194591                    0.000000   \n",
              "1                                      0.309996                    0.137173   \n",
              "2                                      0.328377                    1.000000   \n",
              "\n",
              "   original_glszm_ZonePercentage  original_glszm_ZoneVariance  \\\n",
              "0                       0.001281                     1.000000   \n",
              "1                       0.007253                     0.000000   \n",
              "2                       0.003185                     0.859655   \n",
              "\n",
              "   original_ngtdm_Busyness  original_ngtdm_Coarseness  \\\n",
              "0                 0.537233                   0.002335   \n",
              "1                 0.000000                   0.011285   \n",
              "2                 1.000000                   0.001334   \n",
              "\n",
              "   original_ngtdm_Complexity  original_ngtdm_Contrast  original_ngtdm_Strength  \n",
              "0                   0.109755                 0.013383                 0.002051  \n",
              "1                   0.055890                 0.003163                 0.009553  \n",
              "2                   0.101628                 0.010844                 0.001194  \n",
              "\n",
              "[3 rows x 118 columns]"
            ]
          },
          "metadata": {},
          "output_type": "display_data"
        }
      ],
      "source": [
        "display(test_data)"
      ]
    },
    {
      "cell_type": "markdown",
      "metadata": {
        "id": "bCkRizkDMZnY"
      },
      "source": [
        "Random Forest feature importance"
      ]
    },
    {
      "cell_type": "code",
      "execution_count": 14,
      "metadata": {
        "id": "AsNOnrMBF0fr"
      },
      "outputs": [],
      "source": [
        "submit_x=test_data.drop([\"ID\"],axis=1)"
      ]
    },
    {
      "cell_type": "code",
      "execution_count": 13,
      "metadata": {
        "colab": {
          "base_uri": "https://localhost:8080/",
          "height": 621
        },
        "id": "2HLAoSoCkoTa",
        "outputId": "d2618564-abde-4a45-f8f7-4884ba57270c"
      },
      "outputs": [],
      "source": [
        "features_list=joblib.load(\"FeaturelistForRFS\")"
      ]
    },
    {
      "cell_type": "code",
      "execution_count": 15,
      "metadata": {
        "id": "arjJXJDCF0fs"
      },
      "outputs": [],
      "source": [
        "submit_x=submit_x[features_list]"
      ]
    },
    {
      "cell_type": "markdown",
      "metadata": {
        "id": "vimF8NqWRnZ-"
      },
      "source": [
        "PCA"
      ]
    },
    {
      "cell_type": "code",
      "execution_count": 16,
      "metadata": {
        "colab": {
          "base_uri": "https://localhost:8080/",
          "height": 193
        },
        "id": "MeoysSZhF0ft",
        "outputId": "dfcba94c-7378-4579-ebdd-b8d7425c42bb"
      },
      "outputs": [
        {
          "data": {
            "text/html": [
              "<div>\n",
              "<style scoped>\n",
              "    .dataframe tbody tr th:only-of-type {\n",
              "        vertical-align: middle;\n",
              "    }\n",
              "\n",
              "    .dataframe tbody tr th {\n",
              "        vertical-align: top;\n",
              "    }\n",
              "\n",
              "    .dataframe thead th {\n",
              "        text-align: right;\n",
              "    }\n",
              "</style>\n",
              "<table border=\"1\" class=\"dataframe\">\n",
              "  <thead>\n",
              "    <tr style=\"text-align: right;\">\n",
              "      <th></th>\n",
              "      <th>original_firstorder_Kurtosis</th>\n",
              "      <th>original_firstorder_Range</th>\n",
              "      <th>original_glszm_SizeZoneNonUniformity</th>\n",
              "      <th>original_firstorder_Maximum</th>\n",
              "      <th>original_firstorder_Variance</th>\n",
              "      <th>original_glszm_ZoneEntropy</th>\n",
              "      <th>original_shape_Elongation</th>\n",
              "      <th>original_firstorder_Skewness</th>\n",
              "      <th>Age</th>\n",
              "      <th>original_firstorder_MeanAbsoluteDeviation</th>\n",
              "      <th>...</th>\n",
              "      <th>original_glrlm_RunLengthNonUniformityNormalized</th>\n",
              "      <th>original_shape_Maximum3DDiameter</th>\n",
              "      <th>original_shape_SurfaceArea</th>\n",
              "      <th>original_shape_Maximum2DDiameterSlice</th>\n",
              "      <th>original_firstorder_Mean</th>\n",
              "      <th>original_ngtdm_Coarseness</th>\n",
              "      <th>original_glrlm_RunPercentage</th>\n",
              "      <th>original_gldm_DependenceNonUniformity</th>\n",
              "      <th>original_glrlm_LongRunHighGrayLevelEmphasis</th>\n",
              "      <th>Proliferation</th>\n",
              "    </tr>\n",
              "  </thead>\n",
              "  <tbody>\n",
              "    <tr>\n",
              "      <th>0</th>\n",
              "      <td>1.000000</td>\n",
              "      <td>0.000000</td>\n",
              "      <td>0.000000</td>\n",
              "      <td>0.000000</td>\n",
              "      <td>0.000000</td>\n",
              "      <td>0.000000</td>\n",
              "      <td>0.621404</td>\n",
              "      <td>0.177252</td>\n",
              "      <td>0.000000</td>\n",
              "      <td>0.000000</td>\n",
              "      <td>...</td>\n",
              "      <td>0.183692</td>\n",
              "      <td>0.018755</td>\n",
              "      <td>0.211041</td>\n",
              "      <td>0.364869</td>\n",
              "      <td>0.000000</td>\n",
              "      <td>0.002335</td>\n",
              "      <td>0.206807</td>\n",
              "      <td>0.558131</td>\n",
              "      <td>0.982836</td>\n",
              "      <td>3</td>\n",
              "    </tr>\n",
              "    <tr>\n",
              "      <th>1</th>\n",
              "      <td>0.927264</td>\n",
              "      <td>0.509502</td>\n",
              "      <td>0.662692</td>\n",
              "      <td>0.731767</td>\n",
              "      <td>0.783658</td>\n",
              "      <td>0.137173</td>\n",
              "      <td>0.733284</td>\n",
              "      <td>1.000000</td>\n",
              "      <td>1.000000</td>\n",
              "      <td>0.700205</td>\n",
              "      <td>...</td>\n",
              "      <td>0.140892</td>\n",
              "      <td>0.000000</td>\n",
              "      <td>0.000000</td>\n",
              "      <td>0.000000</td>\n",
              "      <td>1.000000</td>\n",
              "      <td>0.011285</td>\n",
              "      <td>0.252044</td>\n",
              "      <td>0.000000</td>\n",
              "      <td>0.000000</td>\n",
              "      <td>1</td>\n",
              "    </tr>\n",
              "    <tr>\n",
              "      <th>2</th>\n",
              "      <td>0.000000</td>\n",
              "      <td>1.000000</td>\n",
              "      <td>1.000000</td>\n",
              "      <td>1.000000</td>\n",
              "      <td>1.000000</td>\n",
              "      <td>1.000000</td>\n",
              "      <td>0.703667</td>\n",
              "      <td>0.000000</td>\n",
              "      <td>0.433714</td>\n",
              "      <td>1.000000</td>\n",
              "      <td>...</td>\n",
              "      <td>0.160050</td>\n",
              "      <td>1.000000</td>\n",
              "      <td>1.000000</td>\n",
              "      <td>1.000000</td>\n",
              "      <td>0.837693</td>\n",
              "      <td>0.001334</td>\n",
              "      <td>0.205509</td>\n",
              "      <td>1.000000</td>\n",
              "      <td>1.000000</td>\n",
              "      <td>3</td>\n",
              "    </tr>\n",
              "  </tbody>\n",
              "</table>\n",
              "<p>3 rows × 60 columns</p>\n",
              "</div>"
            ],
            "text/plain": [
              "   original_firstorder_Kurtosis  original_firstorder_Range  \\\n",
              "0                      1.000000                   0.000000   \n",
              "1                      0.927264                   0.509502   \n",
              "2                      0.000000                   1.000000   \n",
              "\n",
              "   original_glszm_SizeZoneNonUniformity  original_firstorder_Maximum  \\\n",
              "0                              0.000000                     0.000000   \n",
              "1                              0.662692                     0.731767   \n",
              "2                              1.000000                     1.000000   \n",
              "\n",
              "   original_firstorder_Variance  original_glszm_ZoneEntropy  \\\n",
              "0                      0.000000                    0.000000   \n",
              "1                      0.783658                    0.137173   \n",
              "2                      1.000000                    1.000000   \n",
              "\n",
              "   original_shape_Elongation  original_firstorder_Skewness       Age  \\\n",
              "0                   0.621404                      0.177252  0.000000   \n",
              "1                   0.733284                      1.000000  1.000000   \n",
              "2                   0.703667                      0.000000  0.433714   \n",
              "\n",
              "   original_firstorder_MeanAbsoluteDeviation  ...  \\\n",
              "0                                   0.000000  ...   \n",
              "1                                   0.700205  ...   \n",
              "2                                   1.000000  ...   \n",
              "\n",
              "   original_glrlm_RunLengthNonUniformityNormalized  \\\n",
              "0                                         0.183692   \n",
              "1                                         0.140892   \n",
              "2                                         0.160050   \n",
              "\n",
              "   original_shape_Maximum3DDiameter  original_shape_SurfaceArea  \\\n",
              "0                          0.018755                    0.211041   \n",
              "1                          0.000000                    0.000000   \n",
              "2                          1.000000                    1.000000   \n",
              "\n",
              "   original_shape_Maximum2DDiameterSlice  original_firstorder_Mean  \\\n",
              "0                               0.364869                  0.000000   \n",
              "1                               0.000000                  1.000000   \n",
              "2                               1.000000                  0.837693   \n",
              "\n",
              "   original_ngtdm_Coarseness  original_glrlm_RunPercentage  \\\n",
              "0                   0.002335                      0.206807   \n",
              "1                   0.011285                      0.252044   \n",
              "2                   0.001334                      0.205509   \n",
              "\n",
              "   original_gldm_DependenceNonUniformity  \\\n",
              "0                               0.558131   \n",
              "1                               0.000000   \n",
              "2                               1.000000   \n",
              "\n",
              "   original_glrlm_LongRunHighGrayLevelEmphasis  Proliferation  \n",
              "0                                     0.982836              3  \n",
              "1                                     0.000000              1  \n",
              "2                                     1.000000              3  \n",
              "\n",
              "[3 rows x 60 columns]"
            ]
          },
          "metadata": {},
          "output_type": "display_data"
        }
      ],
      "source": [
        "display(submit_x)"
      ]
    },
    {
      "cell_type": "code",
      "execution_count": 17,
      "metadata": {
        "colab": {
          "base_uri": "https://localhost:8080/",
          "height": 163
        },
        "id": "wC1p8POLF0ft",
        "outputId": "bdc753b8-fc09-48e3-96f7-238afe662a18"
      },
      "outputs": [
        {
          "name": "stderr",
          "output_type": "stream",
          "text": [
            "c:\\Users\\DELL\\AppData\\Local\\Programs\\Python\\Python38\\lib\\site-packages\\sklearn\\base.py:348: InconsistentVersionWarning: Trying to unpickle estimator PCA from version 1.2.2 when using version 1.3.1. This might lead to breaking code or invalid results. Use at your own risk. For more info please refer to:\n",
            "https://scikit-learn.org/stable/model_persistence.html#security-maintainability-limitations\n",
            "  warnings.warn(\n"
          ]
        },
        {
          "data": {
            "text/html": [
              "<div>\n",
              "<style scoped>\n",
              "    .dataframe tbody tr th:only-of-type {\n",
              "        vertical-align: middle;\n",
              "    }\n",
              "\n",
              "    .dataframe tbody tr th {\n",
              "        vertical-align: top;\n",
              "    }\n",
              "\n",
              "    .dataframe thead th {\n",
              "        text-align: right;\n",
              "    }\n",
              "</style>\n",
              "<table border=\"1\" class=\"dataframe\">\n",
              "  <thead>\n",
              "    <tr style=\"text-align: right;\">\n",
              "      <th></th>\n",
              "      <th>0</th>\n",
              "      <th>1</th>\n",
              "      <th>2</th>\n",
              "      <th>3</th>\n",
              "      <th>4</th>\n",
              "      <th>5</th>\n",
              "      <th>6</th>\n",
              "      <th>7</th>\n",
              "      <th>8</th>\n",
              "      <th>9</th>\n",
              "      <th>10</th>\n",
              "      <th>11</th>\n",
              "      <th>12</th>\n",
              "      <th>13</th>\n",
              "      <th>14</th>\n",
              "      <th>15</th>\n",
              "    </tr>\n",
              "  </thead>\n",
              "  <tbody>\n",
              "    <tr>\n",
              "      <th>0</th>\n",
              "      <td>1.506608</td>\n",
              "      <td>1.444578</td>\n",
              "      <td>-1.108581</td>\n",
              "      <td>-0.720206</td>\n",
              "      <td>-0.385492</td>\n",
              "      <td>0.300196</td>\n",
              "      <td>-0.085488</td>\n",
              "      <td>-0.066137</td>\n",
              "      <td>-0.359396</td>\n",
              "      <td>0.555717</td>\n",
              "      <td>0.357331</td>\n",
              "      <td>-0.240002</td>\n",
              "      <td>-0.704297</td>\n",
              "      <td>-0.420818</td>\n",
              "      <td>-0.435929</td>\n",
              "      <td>0.092681</td>\n",
              "    </tr>\n",
              "    <tr>\n",
              "      <th>1</th>\n",
              "      <td>-1.287537</td>\n",
              "      <td>-0.053292</td>\n",
              "      <td>0.635132</td>\n",
              "      <td>1.197098</td>\n",
              "      <td>0.413798</td>\n",
              "      <td>-0.054616</td>\n",
              "      <td>0.104868</td>\n",
              "      <td>0.196608</td>\n",
              "      <td>0.022482</td>\n",
              "      <td>-0.481461</td>\n",
              "      <td>-0.507259</td>\n",
              "      <td>0.749390</td>\n",
              "      <td>-0.463490</td>\n",
              "      <td>-0.201204</td>\n",
              "      <td>-0.188765</td>\n",
              "      <td>-0.380845</td>\n",
              "    </tr>\n",
              "    <tr>\n",
              "      <th>2</th>\n",
              "      <td>2.573402</td>\n",
              "      <td>-1.311050</td>\n",
              "      <td>1.353390</td>\n",
              "      <td>-1.019074</td>\n",
              "      <td>0.580557</td>\n",
              "      <td>0.350034</td>\n",
              "      <td>-0.620002</td>\n",
              "      <td>0.389310</td>\n",
              "      <td>0.650047</td>\n",
              "      <td>-0.255013</td>\n",
              "      <td>0.365057</td>\n",
              "      <td>-0.235925</td>\n",
              "      <td>-0.131580</td>\n",
              "      <td>0.160263</td>\n",
              "      <td>-0.201269</td>\n",
              "      <td>-0.028830</td>\n",
              "    </tr>\n",
              "  </tbody>\n",
              "</table>\n",
              "</div>"
            ],
            "text/plain": [
              "         0         1         2         3         4         5         6   \\\n",
              "0  1.506608  1.444578 -1.108581 -0.720206 -0.385492  0.300196 -0.085488   \n",
              "1 -1.287537 -0.053292  0.635132  1.197098  0.413798 -0.054616  0.104868   \n",
              "2  2.573402 -1.311050  1.353390 -1.019074  0.580557  0.350034 -0.620002   \n",
              "\n",
              "         7         8         9         10        11        12        13  \\\n",
              "0 -0.066137 -0.359396  0.555717  0.357331 -0.240002 -0.704297 -0.420818   \n",
              "1  0.196608  0.022482 -0.481461 -0.507259  0.749390 -0.463490 -0.201204   \n",
              "2  0.389310  0.650047 -0.255013  0.365057 -0.235925 -0.131580  0.160263   \n",
              "\n",
              "         14        15  \n",
              "0 -0.435929  0.092681  \n",
              "1 -0.188765 -0.380845  \n",
              "2 -0.201269 -0.028830  "
            ]
          },
          "metadata": {},
          "output_type": "display_data"
        }
      ],
      "source": [
        "# 对标准化后的数据进行PCA变换\n",
        "pca=joblib.load(\"PCAforRFS\")\n",
        "principal_components_submit = pca.transform(submit_x)\n",
        "\n",
        "# 将主成分转换为数据框\n",
        "pca_submit_x = pd.DataFrame(data=principal_components_submit)\n",
        "\n",
        "display(pca_submit_x)"
      ]
    },
    {
      "cell_type": "markdown",
      "metadata": {
        "id": "chMTiD-s5JUI"
      },
      "source": [
        "Cross Validation"
      ]
    },
    {
      "cell_type": "markdown",
      "metadata": {
        "id": "fb8fFA1x585i"
      },
      "source": [
        "对SVR模型调优"
      ]
    },
    {
      "cell_type": "code",
      "execution_count": 18,
      "metadata": {
        "colab": {
          "base_uri": "https://localhost:8080/",
          "height": 210
        },
        "id": "22w-uQPg6Bwi",
        "outputId": "504a6a5f-6126-4fe4-e7fa-bb75294dd9c1"
      },
      "outputs": [
        {
          "name": "stderr",
          "output_type": "stream",
          "text": [
            "c:\\Users\\DELL\\AppData\\Local\\Programs\\Python\\Python38\\lib\\site-packages\\sklearn\\base.py:348: InconsistentVersionWarning: Trying to unpickle estimator SVR from version 1.2.2 when using version 1.3.1. This might lead to breaking code or invalid results. Use at your own risk. For more info please refer to:\n",
            "https://scikit-learn.org/stable/model_persistence.html#security-maintainability-limitations\n",
            "  warnings.warn(\n"
          ]
        }
      ],
      "source": [
        "svm=joblib.load(\"SVR\")"
      ]
    },
    {
      "cell_type": "markdown",
      "metadata": {
        "id": "lb2QaJyYF0fv"
      },
      "source": [
        "Write predict answer to csv"
      ]
    },
    {
      "cell_type": "code",
      "execution_count": 19,
      "metadata": {
        "id": "mT1N57aHF0fv"
      },
      "outputs": [
        {
          "name": "stderr",
          "output_type": "stream",
          "text": [
            "c:\\Users\\DELL\\AppData\\Local\\Programs\\Python\\Python38\\lib\\site-packages\\sklearn\\base.py:465: UserWarning: X does not have valid feature names, but SVR was fitted with feature names\n",
            "  warnings.warn(\n"
          ]
        }
      ],
      "source": [
        "submit__y=svm.predict(pca_submit_x)\n",
        "submit_df=pd.DataFrame({\"ID\":test_data[\"ID\"],\"RelapseFreeSurvival (outcome)\":submit__y})\n",
        "submit_df.to_csv(\"FinalTestRFS.csv\")"
      ]
    }
  ],
  "metadata": {
    "colab": {
      "provenance": []
    },
    "kernelspec": {
      "display_name": "Python 3 (ipykernel)",
      "language": "python",
      "name": "python3"
    },
    "language_info": {
      "codemirror_mode": {
        "name": "ipython",
        "version": 3
      },
      "file_extension": ".py",
      "mimetype": "text/x-python",
      "name": "python",
      "nbconvert_exporter": "python",
      "pygments_lexer": "ipython3",
      "version": "3.8.2"
    }
  },
  "nbformat": 4,
  "nbformat_minor": 0
}
